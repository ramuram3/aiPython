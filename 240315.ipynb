{
  "nbformat": 4,
  "nbformat_minor": 0,
  "metadata": {
    "colab": {
      "provenance": []
    },
    "kernelspec": {
      "name": "python3",
      "display_name": "Python 3"
    },
    "language_info": {
      "name": "python"
    }
  },
  "cells": [
    {
      "cell_type": "markdown",
      "source": [
        "ㅋㅋ"
      ],
      "metadata": {
        "id": "cN6lbBfA_9fe"
      }
    },
    {
      "cell_type": "code",
      "execution_count": 2,
      "metadata": {
        "colab": {
          "base_uri": "https://localhost:8080/"
        },
        "id": "ULV2-5hd-i6t",
        "outputId": "e532bb0e-051d-47b8-f4e3-e3b878c2f8e5"
      },
      "outputs": [
        {
          "output_type": "stream",
          "name": "stdout",
          "text": [
            "1,2\n",
            "3\n"
          ]
        }
      ],
      "source": [
        "import openpyxl\n",
        "# 두 정수 A와 B를 입력받습니다.\n",
        "A, B = map(int, input().split(\",\"))\n",
        "\n",
        "# A와 B의 합을 출력합니다.\n",
        "print(A + B)"
      ]
    }
  ]
}